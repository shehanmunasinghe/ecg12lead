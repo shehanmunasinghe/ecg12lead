{
 "metadata": {
  "language_info": {
   "codemirror_mode": {
    "name": "ipython",
    "version": 3
   },
   "file_extension": ".py",
   "mimetype": "text/x-python",
   "name": "python",
   "nbconvert_exporter": "python",
   "pygments_lexer": "ipython3",
   "version": 3
  },
  "orig_nbformat": 2
 },
 "nbformat": 4,
 "nbformat_minor": 2,
 "cells": [
  {
   "source": [
    "## Imports"
   ],
   "cell_type": "markdown",
   "metadata": {}
  },
  {
   "cell_type": "code",
   "execution_count": null,
   "metadata": {},
   "outputs": [],
   "source": [
    "import ecg12lead.datasets.PhysioNet2020Dataset as PhysioNet2020Dataset\n",
    "from ecg12lead.datasets.PhysioNet2020Dataset import filter_metadata, train_val_split"
   ]
  },
  {
   "source": [
    "## Load Data"
   ],
   "cell_type": "markdown",
   "metadata": {}
  },
  {
   "cell_type": "code",
   "execution_count": null,
   "metadata": {},
   "outputs": [],
   "source": [
    "DATASETS_DIR= \"D:\\\\Machine Learning Datasets\\\\PhysioNet 2020\\\\Extracted\"\n",
    "metadata_original = PhysioNet2020Dataset.LoadCache(datasets_dir = DATASETS_DIR ).get_metadata()"
   ]
  },
  {
   "source": [
    "## Train-Val Split"
   ],
   "cell_type": "markdown",
   "metadata": {}
  },
  {
   "cell_type": "code",
   "execution_count": null,
   "metadata": {},
   "outputs": [],
   "source": [
    "use_labels=['SNR'\t,'AF']\n",
    "metadata = filter_metadata(metadata_original,use_labels=use_labels)"
   ]
  },
  {
   "cell_type": "code",
   "execution_count": null,
   "metadata": {},
   "outputs": [],
   "source": [
    "metadata_train, metadata_val = train_val_split(metadata, split=(0.7,0.3))"
   ]
  },
  {
   "cell_type": "code",
   "execution_count": null,
   "metadata": {},
   "outputs": [],
   "source": [
    "dataset_train   = PhysioNet2020Dataset.Dataset(DATASETS_DIR, metadata_train ,tensor_out=True)\n",
    "dataset_val     = PhysioNet2020Dataset.Dataset(DATASETS_DIR, metadata_val   ,tensor_out=True )"
   ]
  },
  {
   "source": [
    "## Dataloaders"
   ],
   "cell_type": "markdown",
   "metadata": {}
  },
  {
   "cell_type": "code",
   "execution_count": null,
   "metadata": {},
   "outputs": [],
   "source": [
    "batch_size = 32"
   ]
  },
  {
   "cell_type": "code",
   "execution_count": null,
   "metadata": {},
   "outputs": [],
   "source": [
    "dataloader_train    = torch.utils.data.DataLoader(dataset_train, batch_size =batch_size, sampler = dataset_train.get_wr_sampler())\n",
    "dataloader_val      = torch.utils.data.DataLoader(dataset_val  , batch_size =batch_size, shuffle=False) #no wr_sampler # no shuffle"
   ]
  },
  {
   "source": [
    "## CNN Model"
   ],
   "cell_type": "markdown",
   "metadata": {}
  },
  {
   "cell_type": "code",
   "execution_count": null,
   "metadata": {},
   "outputs": [],
   "source": [
    "from ecg12lead.models.ECGNet import ECGNet"
   ]
  },
  {
   "source": [
    "## Training Loop"
   ],
   "cell_type": "markdown",
   "metadata": {}
  },
  {
   "cell_type": "code",
   "execution_count": null,
   "metadata": {},
   "outputs": [],
   "source": [
    "from ecg12lead.trainers.Trainer import Trainer\n",
    "from ecg12lead.metrics.Evaluator import Evaluator\n",
    "import torch"
   ]
  },
  {
   "cell_type": "code",
   "execution_count": null,
   "metadata": {},
   "outputs": [],
   "source": [
    "model = ECGNet(N_labels=len(use_labels))\n",
    "\n",
    "learning_rate = 0.0003 #0.0005 #0.001\n",
    "\n",
    "trainer = Trainer(\n",
    "    model           = model,\n",
    "    loss_fn         = torch.nn.BCELoss(), #BCEWithLogitsLoss is more numerically stable than BCELoss function\n",
    "    optimizer       = torch.optim.Adam(model.parameters(),lr=learning_rate) ,\n",
    "    \n",
    "    train_loader    = dataloader_train,\n",
    "    val_loader      = dataloader_val,\n",
    "\n",
    "    evaluator       = Evaluator(num_classes = len(use_labels), y_decode=dataset_train.y_decode),\n",
    "\n",
    "    model_checkpoint_dir= MODEL_CPT_DIR,\n",
    "    tensorboard_log_dir = TENSORBOARD_LOGS_DIR,\n",
    "\n",
    "    experiment_name = \"EXP-0\" #Note: Edit if different experiment\n",
    ")"
   ]
  },
  {
   "cell_type": "code",
   "execution_count": null,
   "metadata": {},
   "outputs": [],
   "source": [
    "trainer.run(total_epochs=10,cpt_interval=10)"
   ]
  }
 ]
}