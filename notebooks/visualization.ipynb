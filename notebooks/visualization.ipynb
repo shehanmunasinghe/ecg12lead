{
 "metadata": {
  "language_info": {
   "codemirror_mode": {
    "name": "ipython",
    "version": 3
   },
   "file_extension": ".py",
   "mimetype": "text/x-python",
   "name": "python",
   "nbconvert_exporter": "python",
   "pygments_lexer": "ipython3",
   "version": "3.7.7-final"
  },
  "orig_nbformat": 2,
  "kernelspec": {
   "name": "python3",
   "display_name": "Python 3.7.7 64-bit ('python37_cv': conda)",
   "metadata": {
    "interpreter": {
     "hash": "00a8cc73bb9e6ed04ade57149cdaf42a88cd614fdde46ff037cc4e9070fb05d4"
    }
   }
  }
 },
 "nbformat": 4,
 "nbformat_minor": 2,
 "cells": [
  {
   "source": [
    "## Load Data"
   ],
   "cell_type": "markdown",
   "metadata": {}
  },
  {
   "cell_type": "code",
   "execution_count": null,
   "metadata": {},
   "outputs": [],
   "source": [
    "import ecg12lead.datasets.PhysioNet2020Dataset as PhysioNet2020Dataset\n",
    "from ecg12lead.datasets.PhysioNet2020Dataset import filter_metadata"
   ]
  },
  {
   "cell_type": "code",
   "execution_count": null,
   "metadata": {},
   "outputs": [],
   "source": [
    "DATASETS_DIR= \"D:\\\\Machine Learning Datasets\\\\PhysioNet 2020\\\\Extracted\"\n",
    "metadata = PhysioNet2020Dataset.LoadCache(datasets_dir = DATASETS_DIR ).get_metadata()"
   ]
  },
  {
   "cell_type": "code",
   "execution_count": null,
   "metadata": {},
   "outputs": [],
   "source": [
    "dataset = PhysioNet2020Dataset.Dataset(DATASETS_DIR,\n",
    "        filter_metadata(metadata,use_labels=['SNR'\t,'AF'])\n",
    "    )"
   ]
  },
  {
   "source": [
    "## Visualize"
   ],
   "cell_type": "markdown",
   "metadata": {}
  },
  {
   "cell_type": "code",
   "execution_count": null,
   "metadata": {},
   "outputs": [],
   "source": [
    "%matplotlib inline\n",
    "import matplotlib.pyplot as plt\n",
    "from ipywidgets import interact"
   ]
  },
  {
   "cell_type": "code",
   "execution_count": null,
   "metadata": {},
   "outputs": [],
   "source": [
    "from ecg12lead.utils.visualization import visualize_dataset"
   ]
  },
  {
   "cell_type": "code",
   "execution_count": null,
   "metadata": {},
   "outputs": [],
   "source": [
    "visualize_dataset(dataset)"
   ]
  }
 ]
}